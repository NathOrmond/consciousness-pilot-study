{
 "cells": [
  {
   "cell_type": "markdown",
   "metadata": {},
   "source": [
    "# Mind Survey Response Analysis\n",
    "\n",
    "This notebook analyzes responses to questions about consciousness and phenomenal properties across different philosophical backgrounds.\n",
    "\n",
    "## Contents\n",
    "1. Data Loading and Initial Inspection\n",
    "2. Overview of Responses\n",
    "3. Analysis by Philosophical Background\n",
    "4. Individual Question Analysis\n",
    "5. Statistical Tests and Effect Sizes\n",
    "6. Visualization of Results"
   ]
  },
  {
   "cell_type": "code",
   "execution_count": 1,
   "metadata": {},
   "outputs": [
    {
     "name": "stdout",
     "output_type": "stream",
     "text": [
      "test\n"
     ]
    }
   ],
   "source": [
    "print(\"test\")"
   ]
  },
  {
   "cell_type": "code",
   "execution_count": 2,
   "metadata": {},
   "outputs": [
    {
     "name": "stdout",
     "output_type": "stream",
     "text": [
      "imports loaded\n"
     ]
    }
   ],
   "source": [
    "# Essential imports\n",
    "import pandas as pd\n",
    "import os\n",
    "import numpy as np\n",
    "from scipy import stats\n",
    "import matplotlib.pyplot as plt\n",
    "import seaborn as sns\n",
    "from statsmodels.stats.multitest import multipletests\n",
    "from tabulate import tabulate\n",
    "import plotly.graph_objects as go\n",
    "\n",
    "print(\"imports loaded\")"
   ]
  },
  {
   "cell_type": "code",
   "execution_count": 3,
   "metadata": {},
   "outputs": [
    {
     "name": "stdout",
     "output_type": "stream",
     "text": [
      "configs set\n"
     ]
    }
   ],
   "source": [
    "# Set display options\n",
    "pd.set_option('display.max_columns', None)\n",
    "pd.set_option('display.max_rows', 100)\n",
    "\n",
    "# Set plotting style - use this instead of the previous style settings\n",
    "plt.style.use('default')  # Reset to default style\n",
    "sns.set_style(\"whitegrid\")  # Apply seaborn style\n",
    "\n",
    "# Text display preferences\n",
    "from IPython.display import HTML\n",
    "HTML(\"\"\"\n",
    "<style>\n",
    "    div#notebook { font-family: \"Arial\"; }\n",
    "</style>\n",
    "\"\"\")\n",
    "print(\"configs set\")"
   ]
  },
  {
   "cell_type": "markdown",
   "metadata": {},
   "source": [
    "## 1. Data Loading and Initial Inspection"
   ]
  },
  {
   "cell_type": "code",
   "execution_count": 4,
   "metadata": {},
   "outputs": [
    {
     "name": "stdout",
     "output_type": "stream",
     "text": [
      "File exists!\n",
      "Size: 217714 bytes\n"
     ]
    }
   ],
   "source": [
    "file_path = '../data/mind-survey-data.csv'\n",
    "if os.path.exists(file_path):\n",
    "    stats = os.stat(file_path)\n",
    "    print(\"File exists!\")\n",
    "    print(f\"Size: {stats.st_size} bytes\")\n",
    "else:\n",
    "    import logging\n",
    "    logging.warning(\"Make sure your data file exists and the file_path is correct\")"
   ]
  },
  {
   "cell_type": "code",
   "execution_count": null,
   "metadata": {},
   "outputs": [],
   "source": [
    "# Load the data\n",
    "df = pd.read_csv(file_path)\n",
    "# Display basic information about the dataset\n",
    "print(f\"Number of responses: {len(df)}\")\n",
    "print(\"\\nColumn names:\")\n",
    "for col in df.columns:\n",
    "    print(f\"- {col}\")"
   ]
  },
  {
   "cell_type": "markdown",
   "metadata": {},
   "source": [
    "### Available Quesions"
   ]
  },
  {
   "cell_type": "code",
   "execution_count": null,
   "metadata": {},
   "outputs": [],
   "source": [
    "# Get list of questions (excluding metadata)\n",
    "questions = [col for col in df.columns if col not in [\n",
    "    'Timestamp',\n",
    "    'What is your background in philosophy',\n",
    "    'Where in the world did most of your childhood education and upbringing take place? ',\n",
    "    'I would describe my views on mind as'\n",
    "]]\n",
    "\n",
    "# Print available questions\n",
    "print(\"Available questions (you can copy and paste these for use in code):\")\n",
    "for i, q in enumerate(questions, 1):\n",
    "    print(q)"
   ]
  },
  {
   "cell_type": "markdown",
   "metadata": {},
   "source": [
    "## 2. Overview of Responses"
   ]
  },
  {
   "cell_type": "code",
   "execution_count": null,
   "metadata": {},
   "outputs": [],
   "source": [
    "# Count responses by philosophical background\n",
    "background_counts = df['What is your background in philosophy'].value_counts()\n",
    "print(\"Responses by philosophical background:\")\n",
    "print(background_counts)"
   ]
  },
  {
   "cell_type": "code",
   "execution_count": null,
   "metadata": {},
   "outputs": [],
   "source": [
    "def question_response_table(df, question):\n",
    "    \"\"\"Creates formatted tables of response statistics\"\"\"\n",
    "    # Create response counts table\n",
    "    counts_df = pd.DataFrame({\n",
    "        'Response': df[question].value_counts().index,\n",
    "        'Count': df[question].value_counts().values,\n",
    "        'Percentage': (df[question].value_counts(normalize=True).round(3) * 100).map('{:.1f}%'.format)\n",
    "    })\n",
    "    # Create cross-tabulation\n",
    "    cross_tab = pd.crosstab(\n",
    "        df['What is your background in philosophy'],\n",
    "        df[question],\n",
    "        normalize='index'\n",
    "    ).round(3) * 100\n",
    "    # Format percentages and prepare crosstab\n",
    "    cross_tab = cross_tab.map('{:.1f}%'.format)\n",
    "    cross_tab = cross_tab.reset_index()\n",
    "    cross_tab = cross_tab.rename(columns={'What is your background in philosophy': 'Background'})\n",
    "    \n",
    "    return counts_df, cross_tab"
   ]
  },
  {
   "cell_type": "code",
   "execution_count": null,
   "metadata": {},
   "outputs": [],
   "source": [
    "# Examples using this question\n",
    "question = \"I have thoughts\"\n",
    "# Example of tables output:\n",
    "counts_df, cross_tab = question_response_table(df, question)\n",
    "print(\"Response Counts:\")\n",
    "print(tabulate(counts_df, headers='keys', tablefmt='pretty', showindex=False))\n",
    "print(\"\\nResponses by Background:\")\n",
    "print(tabulate(cross_tab, headers='keys', tablefmt='pretty', showindex=False))"
   ]
  },
  {
   "cell_type": "code",
   "execution_count": null,
   "metadata": {},
   "outputs": [],
   "source": [
    "def make_pretty_table(df):\n",
    "    fig = go.Figure(data=[go.Table(\n",
    "        header=dict(\n",
    "            values=list(df.columns),\n",
    "            fill_color='#440154',\n",
    "            align='center',\n",
    "            font=dict(color='white', size=12)\n",
    "        ),\n",
    "        cells=dict(\n",
    "            values=[df[col] for col in df.columns],\n",
    "            fill_color='#f7f7f9',\n",
    "            align='center'\n",
    "        )\n",
    "    )])\n",
    "    fig.update_layout(margin=dict(l=0, r=0, t=0, b=0))\n",
    "    return fig"
   ]
  },
  {
   "cell_type": "code",
   "execution_count": null,
   "metadata": {},
   "outputs": [],
   "source": [
    "# Usage:\n",
    "fig = make_pretty_table(counts_df)\n",
    "fig.show()"
   ]
  },
  {
   "cell_type": "code",
   "execution_count": null,
   "metadata": {},
   "outputs": [],
   "source": [
    "def create_plotly_table(df, question):\n",
    "    # Get the response counts and percentages\n",
    "    counts_df = pd.DataFrame({\n",
    "        'Response': df[question].value_counts().index,\n",
    "        'Count': df[question].value_counts().values,\n",
    "        'Percentage': (df[question].value_counts(normalize=True).round(3) * 100).map('{:.1f}%'.format)\n",
    "    })\n",
    "    \n",
    "    fig = go.Figure(data=[go.Table(\n",
    "        header=dict(\n",
    "            values=list(counts_df.columns),\n",
    "            fill_color='rgb(68, 1, 84)',\n",
    "            align='center',\n",
    "            font=dict(color='white', size=14),\n",
    "            height=40\n",
    "        ),\n",
    "        cells=dict(\n",
    "            values=[counts_df[col] for col in counts_df.columns],\n",
    "            fill_color='rgb(247, 247, 249)',\n",
    "            align='center',\n",
    "            font=dict(size=12),\n",
    "            height=40\n",
    "        )\n",
    "    )])\n",
    "    \n",
    "    # Increase the height multiplier and padding\n",
    "    total_height = (len(counts_df) + 1) * 45 + 100  # Increased multiplier and padding\n",
    "    \n",
    "    fig.update_layout(\n",
    "        title=f\"Responses to: {question}\",\n",
    "        title_x=0.5,\n",
    "        width=800,\n",
    "        height=total_height,\n",
    "        margin=dict(l=20, r=20, t=60, b=40),  # Increased bottom margin\n",
    "        autosize=False\n",
    "    )\n",
    "    \n",
    "    return fig"
   ]
  },
  {
   "cell_type": "code",
   "execution_count": null,
   "metadata": {},
   "outputs": [],
   "source": [
    "fig = create_plotly_table(df, question)\n",
    "fig.show()"
   ]
  },
  {
   "cell_type": "code",
   "execution_count": null,
   "metadata": {},
   "outputs": [],
   "source": [
    "def question_response_piechart(df, question, ax):\n",
    "    \"\"\"Creates a pie chart of responses\"\"\"\n",
    "    response_counts = df[question].value_counts()\n",
    "    explode = [0.05] * len(response_counts)\n",
    "    wedges, texts, autotexts = ax.pie(response_counts.values, \n",
    "                                   explode=explode,\n",
    "                                   labels=response_counts.index,\n",
    "                                   autopct='%1.1f%%',\n",
    "                                   textprops={'fontsize': 10},\n",
    "                                   pctdistance=0.85)\n",
    "    # Improve pie chart label readability\n",
    "    for text in texts:\n",
    "        text.set_fontsize(10)\n",
    "    for autotext in autotexts:\n",
    "        autotext.set_fontsize(9)\n",
    "    ax.set_title(f'Response Distribution\\n{question}', pad=20, fontsize=12)\n",
    "    return ax"
   ]
  },
  {
   "cell_type": "code",
   "execution_count": null,
   "metadata": {},
   "outputs": [],
   "source": [
    "# For just the pie chart:\n",
    "fig, ax = plt.subplots(figsize=(12, 8))\n",
    "question_response_piechart(df, question, ax)\n",
    "plt.show()"
   ]
  },
  {
   "cell_type": "code",
   "execution_count": null,
   "metadata": {},
   "outputs": [],
   "source": [
    "def question_response_histogram(df, question, ax):\n",
    "    \"\"\"Creates a histogram of responses by philosophical background\"\"\"\n",
    "    # Create ordered category mapping\n",
    "    category_order = [\n",
    "        'No background',\n",
    "        'Some formal education in philosophy (high school or otherwise)',\n",
    "        'Personal Interest (I read philosophy books and listen to philosophy podcasts)',\n",
    "        'Formal university education in philosophy',\n",
    "        'I am an academic full-time philosopher'\n",
    "    ]\n",
    "    # Create a copy with ordered categories\n",
    "    df_plot = df.copy()\n",
    "    df_plot['What is your background in philosophy'] = pd.Categorical(\n",
    "        df_plot['What is your background in philosophy'],\n",
    "        categories=category_order,\n",
    "        ordered=True\n",
    "    )\n",
    "    # Create histogram\n",
    "    sns.countplot(data=df_plot, \n",
    "                 x='What is your background in philosophy',\n",
    "                 hue=question,\n",
    "                 ax=ax,\n",
    "                 order=category_order)\n",
    "    # Formatting\n",
    "    plt.setp(ax.get_xticklabels(), rotation=30, ha='right')\n",
    "    ax.set_title('Responses by Philosophical Background', fontsize=12)\n",
    "    ax.legend(bbox_to_anchor=(1.05, 1), \n",
    "             loc='upper left', \n",
    "             borderaxespad=0, \n",
    "             fontsize=10)\n",
    "    return ax"
   ]
  },
  {
   "cell_type": "code",
   "execution_count": null,
   "metadata": {},
   "outputs": [],
   "source": [
    "# Example response histogram:\n",
    "fig, ax = plt.subplots(figsize=(12, 8))\n",
    "question_response_histogram(df, question, ax)\n",
    "plt.tight_layout()  # This helps with the legend placement\n",
    "plt.show()"
   ]
  },
  {
   "cell_type": "code",
   "execution_count": null,
   "metadata": {},
   "outputs": [],
   "source": [
    "def analyze_question_responses(df, question):\n",
    "      print(\"TODO\")"
   ]
  },
  {
   "cell_type": "markdown",
   "metadata": {},
   "source": [
    "### Analyse all data"
   ]
  },
  {
   "cell_type": "code",
   "execution_count": null,
   "metadata": {},
   "outputs": [],
   "source": [
    "plt.style.use('seaborn-v0_8-whitegrid')\n",
    "for question in questions:\n",
    "    analyze_question_responses(df, question)"
   ]
  },
  {
   "cell_type": "markdown",
   "metadata": {},
   "source": [
    "## 3. Response Analysis Functions"
   ]
  },
  {
   "cell_type": "code",
   "execution_count": null,
   "metadata": {},
   "outputs": [],
   "source": [
    "def analyze_question(df, question):\n",
    "    \"\"\"\n",
    "    Analyze responses to a single question\n",
    "    \"\"\"\n",
    "    # Overall response distribution\n",
    "    print(f\"\\nAnalysis of: {question}\")\n",
    "    print(\"\\nOverall response distribution:\")\n",
    "    print(df[question].value_counts(normalize=True).round(3))\n",
    "    \n",
    "    # Response distribution by background\n",
    "    cross_tab = pd.crosstab(\n",
    "        df['What is your background in philosophy'],\n",
    "        df[question],\n",
    "        normalize='index'\n",
    "    ).round(3)\n",
    "    \n",
    "    print(\"\\nResponses by background (proportions):\")\n",
    "    print(cross_tab)\n",
    "    \n",
    "    # Visualization\n",
    "    plt.figure(figsize=(12, 6))\n",
    "    sns.countplot(data=df, x=question, hue='What is your background in philosophy')\n",
    "    plt.xticks(rotation=45, ha='right')\n",
    "    plt.tight_layout()\n",
    "    plt.show()"
   ]
  },
  {
   "cell_type": "code",
   "execution_count": null,
   "metadata": {},
   "outputs": [],
   "source": [
    "def get_question_list(df):\n",
    "    \"\"\"\n",
    "    Get list of survey questions (excluding metadata columns)\n",
    "    \"\"\"\n",
    "    exclude_cols = [\n",
    "        'Timestamp',\n",
    "        'What is your background in philosophy',\n",
    "        'Where in the world did most of your childhood education and upbringing take place? ',\n",
    "        'I would describe my views on mind as'\n",
    "    ]\n",
    "    return [col for col in df.columns if col not in exclude_cols]"
   ]
  },
  {
   "cell_type": "markdown",
   "metadata": {},
   "source": [
    "## 4. Individual Question Analysis"
   ]
  },
  {
   "cell_type": "code",
   "execution_count": null,
   "metadata": {},
   "outputs": [],
   "source": [
    "# Get list of questions\n",
    "questions = get_question_list(df)"
   ]
  },
  {
   "cell_type": "code",
   "execution_count": null,
   "metadata": {},
   "outputs": [],
   "source": [
    "# Analyze first question as example\n",
    "analyze_question(df, questions[0])"
   ]
  },
  {
   "cell_type": "markdown",
   "metadata": {},
   "source": [
    "## 5. Statistical Analysis"
   ]
  },
  {
   "cell_type": "code",
   "execution_count": null,
   "metadata": {},
   "outputs": [],
   "source": [
    "def chi_square_test(df, question):\n",
    "    \"\"\"\n",
    "    Perform chi-square test of independence between background and responses\n",
    "    \"\"\"\n",
    "    contingency_table = pd.crosstab(\n",
    "        df['What is your background in philosophy'],\n",
    "        df[question]\n",
    "    )\n",
    "    chi2, p_val, dof, expected = stats.chi2_contingency(contingency_table)\n",
    "    return {\n",
    "        'question': question,\n",
    "        'chi2': chi2,\n",
    "        'p_value': p_val,\n",
    "        'dof': dof\n",
    "    }\n",
    "\n",
    "# Run chi-square tests for all questions\n",
    "statistical_results = []\n",
    "for question in questions:\n",
    "    result = chi_square_test(df, question)\n",
    "    statistical_results.append(result)\n",
    "\n",
    "# Create results DataFrame\n",
    "results_df = pd.DataFrame(statistical_results)\n",
    "results_df['significant'] = results_df['p_value'] < 0.05\n",
    "\n",
    "# Display significant results\n",
    "print(\"Significant differences found in responses to:\")\n",
    "significant_questions = results_df[results_df['significant']]\n",
    "print(significant_questions[['question', 'p_value']].sort_values('p_value'))"
   ]
  }
 ],
 "metadata": {
  "kernelspec": {
   "display_name": "Python 3 (ipykernel)",
   "language": "python",
   "name": "python3"
  },
  "language_info": {
   "codemirror_mode": {
    "name": "ipython",
    "version": 3
   },
   "file_extension": ".py",
   "mimetype": "text/x-python",
   "name": "python",
   "nbconvert_exporter": "python",
   "pygments_lexer": "ipython3",
   "version": "3.9.21"
  }
 },
 "nbformat": 4,
 "nbformat_minor": 4
}
